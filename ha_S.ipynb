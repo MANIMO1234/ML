{
 "cells": [
  {
   "cell_type": "markdown",
   "id": "dbf8c353-c6f4-40ac-80be-2b4403329920",
   "metadata": {},
   "source": [
    "# iris"
   ]
  },
  {
   "cell_type": "code",
   "execution_count": 1,
   "id": "ec4aaccd-b665-45a2-994f-18f39843604e",
   "metadata": {},
   "outputs": [],
   "source": [
    "import seaborn as sns"
   ]
  },
  {
   "cell_type": "code",
   "execution_count": 2,
   "id": "b924a582-7f19-4fc7-8efa-7b356d62a709",
   "metadata": {},
   "outputs": [],
   "source": [
    "iris = sns.load_dataset('iris')"
   ]
  },
  {
   "cell_type": "code",
   "execution_count": null,
   "id": "91b541cc-33b7-46dc-bfb8-9e3745f9a590",
   "metadata": {},
   "outputs": [],
   "source": []
  },
  {
   "cell_type": "code",
   "execution_count": 29,
   "id": "c8dc4b5e-af84-4c9d-bcae-36300df74687",
   "metadata": {},
   "outputs": [],
   "source": [
    "import pandas as pd"
   ]
  },
  {
   "cell_type": "code",
   "execution_count": 30,
   "id": "744ae271-4d44-4dc3-bb35-993a0ef5e04c",
   "metadata": {},
   "outputs": [],
   "source": [
    "# seatosa, versucolor 종 분류 \n",
    "#petal_length, petal_width"
   ]
  },
  {
   "cell_type": "code",
   "execution_count": 31,
   "id": "5f49790a-f6dd-4c65-91be-fd44e3b55465",
   "metadata": {},
   "outputs": [
    {
     "data": {
      "text/plain": [
       "array(['setosa', 'versicolor', 'virginica'], dtype=object)"
      ]
     },
     "execution_count": 31,
     "metadata": {},
     "output_type": "execute_result"
    }
   ],
   "source": [
    "iris['species'].unique()"
   ]
  },
  {
   "cell_type": "code",
   "execution_count": 32,
   "id": "1efe552b-0c9f-40dd-86d9-f8a11f79581f",
   "metadata": {},
   "outputs": [],
   "source": [
    "from sklearn.neighbors import KNeighborsClassifier"
   ]
  },
  {
   "cell_type": "code",
   "execution_count": 33,
   "id": "66689614-7974-4dda-af13-db441bdca596",
   "metadata": {},
   "outputs": [],
   "source": [
    "kn = KNeighborsClassifier()"
   ]
  },
  {
   "cell_type": "code",
   "execution_count": 44,
   "id": "5a18536a-eaf5-41d3-9de3-e6f6b1f141cc",
   "metadata": {},
   "outputs": [],
   "source": [
    "import matplotlib.pyplot as plt\n"
   ]
  },
  {
   "cell_type": "code",
   "execution_count": 50,
   "id": "a888b82e-9f83-4315-b2eb-5cd08af588d3",
   "metadata": {},
   "outputs": [
    {
     "data": {
      "text/plain": [
       "<bound method Series.info of 0      0.2\n",
       "1      0.2\n",
       "2      0.2\n",
       "3      0.2\n",
       "4      0.2\n",
       "      ... \n",
       "145    2.3\n",
       "146    1.9\n",
       "147    2.0\n",
       "148    2.3\n",
       "149    1.8\n",
       "Name: petal_width, Length: 150, dtype: float64>"
      ]
     },
     "execution_count": 50,
     "metadata": {},
     "output_type": "execute_result"
    }
   ],
   "source": [
    "iris['petal_width']."
   ]
  },
  {
   "cell_type": "code",
   "execution_count": 51,
   "id": "c225f5b1-bac1-4b2c-a7d9-e7685e984168",
   "metadata": {},
   "outputs": [],
   "source": [
    "# seto_df = iris.loc[iris['species'] == 'sesota']\n",
    "# seto_length = seto_df['petal_length'].tolist()\n",
    "# seto_width = seto_df['petal_width'].tolist()\n"
   ]
  },
  {
   "cell_type": "code",
   "execution_count": 53,
   "id": "36011272-30e1-46b4-a17c-218a4eede9bf",
   "metadata": {},
   "outputs": [],
   "source": [
    "seto_df = iris.loc[iris['species'] == 'setosa']\n",
    "seto_length = seto_df['petal_length'].tolist()\n",
    "seto_width = seto_df['petal_width'].tolist()\n",
    "\n",
    "versu_df = iris.loc[iris['species'] == 'versicolor']\n",
    "versu_length = versu_df['petal_length'].tolist()  # seto_df → versu_df 수정\n",
    "versu_width = versu_df['petal_width'].tolist()"
   ]
  },
  {
   "cell_type": "code",
   "execution_count": 55,
   "id": "95512182-ae80-4582-831c-8e56d0f2688b",
   "metadata": {},
   "outputs": [
    {
     "data": {
      "text/plain": [
       "<matplotlib.collections.PathCollection at 0x143931f90>"
      ]
     },
     "execution_count": 55,
     "metadata": {},
     "output_type": "execute_result"
    },
    {
     "data": {
      "image/png": "[encoded data removed]",
      "text/plain": [
       "<Figure size 640x480 with 1 Axes>"
      ]
     },
     "metadata": {},
     "output_type": "display_data"
    }
   ],
   "source": [
    "plt.scatter(seto_length, seto_width)\n",
    "plt.scatter(versu_length, versu_width )"
   ]
  },
  {
   "cell_type": "code",
   "execution_count": null,
   "id": "8f795b7a-2d45-4336-8523-36994ea754f1",
   "metadata": {},
   "outputs": [],
   "source": [
    "# versu_df = iris.loc[iris['species'] == 'versicolor']\n",
    "# versu_length = seto_df['petal_length'] .tolist()\n",
    "# versu_width = seto_df['petal_width'] .tolist()"
   ]
  },
  {
   "cell_type": "code",
   "execution_count": 56,
   "id": "7b3b3a4f-eba3-4cef-859e-a77989d2297e",
   "metadata": {},
   "outputs": [],
   "source": [
    "length =  seto_length + versu_length\n",
    "width = seto_width + versu_width"
   ]
  },
  {
   "cell_type": "code",
   "execution_count": 57,
   "id": "3572994f-1c85-4622-9680-348292b439d8",
   "metadata": {},
   "outputs": [],
   "source": [
    "flower_data = [[1,w] for l, w in zip(length , width)]"
   ]
  },
  {
   "cell_type": "code",
   "execution_count": null,
   "id": "26461d9c-fed6-44cd-9388-2d175cf47d70",
   "metadata": {},
   "outputs": [],
   "source": [
    "len(iris[df['species'] == 'Bream'])"
   ]
  },
  {
   "cell_type": "code",
   "execution_count": 58,
   "id": "54c4ee33-98cd-4450-87d4-ab62a2ed5f2f",
   "metadata": {},
   "outputs": [],
   "source": [
    "flower_target = [1]* len(seto_width)  + [0]* len(versu_width)"
   ]
  },
  {
   "cell_type": "code",
   "execution_count": 59,
   "id": "0033133e-def8-48c1-99d7-75339b9d6892",
   "metadata": {},
   "outputs": [],
   "source": [
    "# 각각의 정보를 1과 0으로 넣는 거라고 , 1과 0으로 적는 거임 "
   ]
  },
  {
   "cell_type": "code",
   "execution_count": null,
   "id": "1cd44830-3c85-4797-8cbf-7ac7bc8bca99",
   "metadata": {},
   "outputs": [],
   "source": []
  },
  {
   "cell_type": "code",
   "execution_count": 61,
   "id": "282caa73-e959-4dc8-9e79-a5777c9851ab",
   "metadata": {},
   "outputs": [],
   "source": [
    "#___ 슨새님 풀이"
   ]
  },
  {
   "cell_type": "code",
   "execution_count": 63,
   "id": "dee03c08-919b-4725-8802-4a11e38b2523",
   "metadata": {},
   "outputs": [],
   "source": [
    "cond = iris['species'].isin([ 'setosa' ,'versicolor' ])\n",
    "iris_df = iris.loc[cond,['petal_length','petal_width']]\n",
    "iris_data = iris_df.values"
   ]
  },
  {
   "cell_type": "code",
   "execution_count": 81,
   "id": "665d57fb-063a-4830-8f50-cf27ad240e3b",
   "metadata": {},
   "outputs": [],
   "source": [
    "setosa_count = iris.loc[iris['species'] == 'setosa'].shape[0]\n",
    "versicolor_count = iris.loc[iris['species'] =='versicolor' ].shape[0]"
   ]
  },
  {
   "cell_type": "code",
   "execution_count": 82,
   "id": "3aee572b-979a-451a-a0a0-39c4888b5013",
   "metadata": {},
   "outputs": [],
   "source": [
    "import numpy as np\n",
    "iris_target = np.array([1] * setosa_count + [0] * versicolor_count)"
   ]
  },
  {
   "cell_type": "code",
   "execution_count": 83,
   "id": "b5d9f3b1-50a0-4189-b684-e4971707cd31",
   "metadata": {},
   "outputs": [],
   "source": [
    "import random\n",
    "\n",
    "index = list(range(setosa_count + versicolor_count))\n",
    "random.shuffle(index)\n",
    "# index"
   ]
  },
  {
   "cell_type": "code",
   "execution_count": 84,
   "id": "6fd716a2-8265-41f4-96b8-6b8c3c6c7be9",
   "metadata": {},
   "outputs": [],
   "source": [
    "train_input = iris_data[index[:70]]\n",
    "train_target = iris_target[index[:70]]"
   ]
  },
  {
   "cell_type": "code",
   "execution_count": 85,
   "id": "1620c935-2ab0-4df1-98ba-7eb077e39c7e",
   "metadata": {},
   "outputs": [],
   "source": [
    "test_input = iris_data[index[70:]]\n",
    "test_target = iris_data[index[70:]]"
   ]
  },
  {
   "cell_type": "code",
   "execution_count": 86,
   "id": "be4f7959-cc37-4a8b-acf1-0ea31b88b272",
   "metadata": {
    "scrolled": true
   },
   "outputs": [
    {
     "data": {
      "text/plain": [
       "<matplotlib.collections.PathCollection at 0x143a78190>"
      ]
     },
     "execution_count": 86,
     "metadata": {},
     "output_type": "execute_result"
    },
    {
     "data": {
      "image/png": "[encoded data removed]",
      "text/plain": [
       "<Figure size 640x480 with 1 Axes>"
      ]
     },
     "metadata": {},
     "output_type": "display_data"
    }
   ],
   "source": [
    "plt.scatter(train_input[:, 0], train_input[:, 1])\n",
    "plt.scatter(test_input[:, 0], test_input[:, 1])"
   ]
  },
  {
   "cell_type": "code",
   "execution_count": null,
   "id": "331dacb7-7773-4245-8fd9-be5be72dd0e4",
   "metadata": {},
   "outputs": [],
   "source": []
  }
 ],
 "metadata": {
  "kernelspec": {
   "display_name": "Python 3 (ipykernel)",
   "language": "python",
   "name": "python3"
  },
  "language_info": {
   "codemirror_mode": {
    "name": "ipython",
    "version": 3
   },
   "file_extension": ".py",
   "mimetype": "text/x-python",
   "name": "python",
   "nbconvert_exporter": "python",
   "pygments_lexer": "ipython3",
   "version": "3.13.2"
  }
 },
 "nbformat": 4,
 "nbformat_minor": 5
}
